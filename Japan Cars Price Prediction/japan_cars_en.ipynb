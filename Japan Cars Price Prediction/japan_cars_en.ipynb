{
  "cells": [
    {
      "cell_type": "markdown",
      "metadata": {
        "id": "2doVGzQCBj5D"
      },
      "source": [
        "# Import libraries"
      ]
    },
    {
      "cell_type": "code",
      "execution_count": null,
      "metadata": {
        "id": "SMH5ZchMBgZ4"
      },
      "outputs": [],
      "source": [
        "# To work with data arrays\n",
        "import numpy as np\n",
        "\n",
        "# To work with tabular data\n",
        "import fireducks.pandas as pd # use fireducks as a faster alternative to pandas\n",
        "\n",
        "# Utilities library\n",
        "from keras import utils\n",
        "\n",
        "# To work with models\n",
        "from keras.models import Sequential, Model\n",
        "\n",
        "# Layers\n",
        "from keras.layers import Dense, Dropout, SpatialDropout1D, BatchNormalization, Embedding, Flatten, Activation, Input, concatenate\n",
        "from keras.layers import SimpleRNN, GRU, LSTM, Bidirectional, Conv1D, MaxPooling1D, GlobalMaxPooling1D\n",
        "\n",
        "# Optimizers\n",
        "from keras.optimizers import Adam, Adadelta, SGD, Adagrad, RMSprop\n",
        "\n",
        "# Tokenizer\n",
        "from tensorflow.keras.preprocessing.text import Tokenizer\n",
        "\n",
        "# Data normalization\n",
        "from sklearn.preprocessing import StandardScaler\n",
        "\n",
        "# Regular expressions\n",
        "import re\n",
        "\n",
        "# To work with graphs\n",
        "import matplotlib.pyplot as plt\n",
        "\n",
        "# Metrics for error calculation\n",
        "from sklearn.metrics import mean_squared_error, mean_absolute_error\n",
        "\n",
        "# To convert string to json format\n",
        "import json\n",
        "\n",
        "%matplotlib inline"
      ]
    },
    {
      "cell_type": "markdown",
      "metadata": {
        "id": "2eUf_RocGNOT"
      },
      "source": [
        "# Loading data"
      ]
    },
    {
      "cell_type": "code",
      "execution_count": null,
      "metadata": {
        "colab": {
          "base_uri": "https://localhost:8080/"
        },
        "id": "DG0tUoDJGAZq",
        "outputId": "ddc57454-0c2e-480a-f615-9a87fbe961fa"
      },
      "outputs": [
        {
          "name": "stdout",
          "output_type": "stream",
          "text": [
            "--2025-02-08 05:51:33--  https://storage.yandexcloud.net/academy.ai/japan_cars_dataset.csv\n",
            "Resolving storage.yandexcloud.net (storage.yandexcloud.net)... 213.180.193.243, 2a02:6b8::1d9\n",
            "Connecting to storage.yandexcloud.net (storage.yandexcloud.net)|213.180.193.243|:443... connected.\n",
            "HTTP request sent, awaiting response... 200 OK\n",
            "Length: 136735 (134K) [text/csv]\n",
            "Saving to: ‘japan_cars_dataset.csv’\n",
            "\n",
            "japan_cars_dataset. 100%[===================>] 133.53K   245KB/s    in 0.5s    \n",
            "\n",
            "2025-02-08 05:51:34 (245 KB/s) - ‘japan_cars_dataset.csv’ saved [136735/136735]\n",
            "\n"
          ]
        }
      ],
      "source": [
        "!wget https://storage.yandexcloud.net/academy.ai/japan_cars_dataset.csv"
      ]
    },
    {
      "cell_type": "code",
      "execution_count": null,
      "metadata": {
        "colab": {
          "base_uri": "https://localhost:8080/"
        },
        "id": "hGFmGHooGWSC",
        "outputId": "cb162a3f-0553-4796-9663-8e93fe9ba748"
      },
      "outputs": [
        {
          "name": "stdout",
          "output_type": "stream",
          "text": [
            "Форма данных:  (2318, 11)\n"
          ]
        }
      ],
      "source": [
        "# Read database file\n",
        "cars = pd.read_csv('japan_cars_dataset.csv', sep=',')\n",
        "\n",
        "# Delete lines with empty values\n",
        "cars = cars.dropna()\n",
        "\n",
        "# Output the data form\n",
        "print('Data shape: ', cars.shape)"
      ]
    },
    {
      "cell_type": "code",
      "execution_count": null,
      "metadata": {
        "colab": {
          "base_uri": "https://localhost:8080/",
          "height": 415
        },
        "id": "OW8ssQUkGg_T",
        "outputId": "074060ed-5751-4898-d84a-6c0dd6bb3ccc"
      },
      "outputs": [
        {
          "data": {
            "text/html": [
              "<div>\n",
              "<style scoped>\n",
              "    .dataframe tbody tr th:only-of-type {\n",
              "        vertical-align: middle;\n",
              "    }\n",
              "\n",
              "    .dataframe tbody tr th {\n",
              "        vertical-align: top;\n",
              "    }\n",
              "\n",
              "    .dataframe thead th {\n",
              "        text-align: right;\n",
              "    }\n",
              "</style>\n",
              "<table border=\"1\" class=\"dataframe\">\n",
              "  <thead>\n",
              "    <tr style=\"text-align: right;\">\n",
              "      <th></th>\n",
              "      <th>Unnamed: 0</th>\n",
              "      <th>price</th>\n",
              "      <th>mark</th>\n",
              "      <th>model</th>\n",
              "      <th>year</th>\n",
              "      <th>mileage</th>\n",
              "      <th>engine_capacity</th>\n",
              "      <th>transmission</th>\n",
              "      <th>drive</th>\n",
              "      <th>hand_drive</th>\n",
              "      <th>fuel</th>\n",
              "    </tr>\n",
              "  </thead>\n",
              "  <tbody>\n",
              "    <tr>\n",
              "      <th>0</th>\n",
              "      <td>0</td>\n",
              "      <td>80</td>\n",
              "      <td>nissan</td>\n",
              "      <td>march</td>\n",
              "      <td>2003</td>\n",
              "      <td>80000</td>\n",
              "      <td>1240</td>\n",
              "      <td>at</td>\n",
              "      <td>2wd</td>\n",
              "      <td>rhd</td>\n",
              "      <td>gasoline</td>\n",
              "    </tr>\n",
              "    <tr>\n",
              "      <th>1</th>\n",
              "      <td>1</td>\n",
              "      <td>110</td>\n",
              "      <td>nissan</td>\n",
              "      <td>march</td>\n",
              "      <td>2010</td>\n",
              "      <td>53000</td>\n",
              "      <td>1200</td>\n",
              "      <td>at</td>\n",
              "      <td>2wd</td>\n",
              "      <td>rhd</td>\n",
              "      <td>gasoline</td>\n",
              "    </tr>\n",
              "    <tr>\n",
              "      <th>2</th>\n",
              "      <td>2</td>\n",
              "      <td>165</td>\n",
              "      <td>nissan</td>\n",
              "      <td>lafesta</td>\n",
              "      <td>2005</td>\n",
              "      <td>47690</td>\n",
              "      <td>2000</td>\n",
              "      <td>at</td>\n",
              "      <td>2wd</td>\n",
              "      <td>rhd</td>\n",
              "      <td>gasoline</td>\n",
              "    </tr>\n",
              "    <tr>\n",
              "      <th>3</th>\n",
              "      <td>3</td>\n",
              "      <td>190</td>\n",
              "      <td>toyota</td>\n",
              "      <td>avensis</td>\n",
              "      <td>2008</td>\n",
              "      <td>130661</td>\n",
              "      <td>1990</td>\n",
              "      <td>at</td>\n",
              "      <td>2wd</td>\n",
              "      <td>rhd</td>\n",
              "      <td>gasoline</td>\n",
              "    </tr>\n",
              "    <tr>\n",
              "      <th>4</th>\n",
              "      <td>4</td>\n",
              "      <td>190</td>\n",
              "      <td>daihatsu</td>\n",
              "      <td>mira</td>\n",
              "      <td>2006</td>\n",
              "      <td>66300</td>\n",
              "      <td>660</td>\n",
              "      <td>at</td>\n",
              "      <td>2wd</td>\n",
              "      <td>rhd</td>\n",
              "      <td>gasoline</td>\n",
              "    </tr>\n",
              "    <tr>\n",
              "      <th>5</th>\n",
              "      <td>5</td>\n",
              "      <td>190</td>\n",
              "      <td>daihatsu</td>\n",
              "      <td>mira</td>\n",
              "      <td>2004</td>\n",
              "      <td>81400</td>\n",
              "      <td>660</td>\n",
              "      <td>at</td>\n",
              "      <td>2wd</td>\n",
              "      <td>rhd</td>\n",
              "      <td>gasoline</td>\n",
              "    </tr>\n",
              "    <tr>\n",
              "      <th>6</th>\n",
              "      <td>8</td>\n",
              "      <td>220</td>\n",
              "      <td>nissan</td>\n",
              "      <td>march</td>\n",
              "      <td>2010</td>\n",
              "      <td>117000</td>\n",
              "      <td>1200</td>\n",
              "      <td>at</td>\n",
              "      <td>2wd</td>\n",
              "      <td>rhd</td>\n",
              "      <td>gasoline</td>\n",
              "    </tr>\n",
              "    <tr>\n",
              "      <th>7</th>\n",
              "      <td>9</td>\n",
              "      <td>230</td>\n",
              "      <td>volkswagen</td>\n",
              "      <td>passat</td>\n",
              "      <td>2008</td>\n",
              "      <td>127763</td>\n",
              "      <td>3190</td>\n",
              "      <td>at</td>\n",
              "      <td>4wd</td>\n",
              "      <td>rhd</td>\n",
              "      <td>gasoline</td>\n",
              "    </tr>\n",
              "    <tr>\n",
              "      <th>8</th>\n",
              "      <td>10</td>\n",
              "      <td>275</td>\n",
              "      <td>mazda</td>\n",
              "      <td>bongo van</td>\n",
              "      <td>2010</td>\n",
              "      <td>178218</td>\n",
              "      <td>1800</td>\n",
              "      <td>mt</td>\n",
              "      <td>2wd</td>\n",
              "      <td>rhd</td>\n",
              "      <td>gasoline</td>\n",
              "    </tr>\n",
              "    <tr>\n",
              "      <th>9</th>\n",
              "      <td>11</td>\n",
              "      <td>283</td>\n",
              "      <td>honda</td>\n",
              "      <td>step wgn</td>\n",
              "      <td>2005</td>\n",
              "      <td>121655</td>\n",
              "      <td>2000</td>\n",
              "      <td>at</td>\n",
              "      <td>2wd</td>\n",
              "      <td>rhd</td>\n",
              "      <td>gasoline</td>\n",
              "    </tr>\n",
              "  </tbody>\n",
              "</table>\n",
              "</div>"
            ]
          },
          "metadata": {},
          "output_type": "display_data"
        }
      ],
      "source": [
        "# Bringing up the first 10 cars\n",
        "cars.head(10)"
      ]
    },
    {
      "cell_type": "code",
      "execution_count": null,
      "metadata": {
        "colab": {
          "base_uri": "https://localhost:8080/"
        },
        "id": "i79dJwkHJv4H",
        "outputId": "e2e98708-9d2c-44f2-d782-b61a2e1d74c6"
      },
      "outputs": [
        {
          "name": "stdout",
          "output_type": "stream",
          "text": [
            "transmission\n",
            "at     2171\n",
            "mt      117\n",
            "cvt      30\n",
            "Name: count, dtype: int64\n"
          ]
        }
      ],
      "source": [
        "print(cars['transmission'].value_counts())"
      ]
    },
    {
      "cell_type": "code",
      "execution_count": null,
      "metadata": {
        "colab": {
          "base_uri": "https://localhost:8080/"
        },
        "id": "9TD6_gYMJxYn",
        "outputId": "cebe5f45-8f2a-4499-c03a-49915a01175e"
      },
      "outputs": [
        {
          "name": "stdout",
          "output_type": "stream",
          "text": [
            "drive\n",
            "2wd    2121\n",
            "4wd     192\n",
            "awd       5\n",
            "Name: count, dtype: int64\n"
          ]
        }
      ],
      "source": [
        "print(cars['drive'].value_counts())"
      ]
    },
    {
      "cell_type": "code",
      "execution_count": null,
      "metadata": {
        "colab": {
          "base_uri": "https://localhost:8080/"
        },
        "id": "aLPa9PVaJ0F0",
        "outputId": "6139e969-2cba-49ca-f60f-86368eee9d78"
      },
      "outputs": [
        {
          "name": "stdout",
          "output_type": "stream",
          "text": [
            "hand_drive\n",
            "rhd       2301\n",
            "lhd         16\n",
            "center       1\n",
            "Name: count, dtype: int64\n"
          ]
        }
      ],
      "source": [
        "print(cars['hand_drive'].value_counts())"
      ]
    },
    {
      "cell_type": "code",
      "execution_count": null,
      "metadata": {
        "colab": {
          "base_uri": "https://localhost:8080/"
        },
        "id": "S9xgfyZ5IrHL",
        "outputId": "9720c2b9-352e-408f-aa3d-efdea525e4d8"
      },
      "outputs": [
        {
          "name": "stdout",
          "output_type": "stream",
          "text": [
            "fuel\n",
            "gasoline    2290\n",
            "diesel        18\n",
            "lpg            7\n",
            "hybrid         2\n",
            "cng            1\n",
            "Name: count, dtype: int64\n"
          ]
        }
      ],
      "source": [
        "print(cars['fuel'].value_counts())"
      ]
    },
    {
      "cell_type": "markdown",
      "metadata": {
        "id": "a4bOMuEaJ4w3"
      },
      "source": [
        "transmission, drive, hand_drive, fuel can be deleted because the values are the same except for a small percentage, which will not affect the entire amount of data."
      ]
    },
    {
      "cell_type": "code",
      "execution_count": null,
      "metadata": {
        "id": "n8SeRWQhHVN_"
      },
      "outputs": [],
      "source": [
        "# Delete unnecessary columns\n",
        "cars.drop(['Unnamed: 0', 'transmission', 'drive', 'hand_drive', 'fuel'], inplace=True, axis=1)"
      ]
    },
    {
      "cell_type": "code",
      "execution_count": null,
      "metadata": {
        "colab": {
          "base_uri": "https://localhost:8080/",
          "height": 363
        },
        "id": "y3xMeqV5LmB3",
        "outputId": "3e0169df-b9ba-42fb-d992-50498a9a56aa"
      },
      "outputs": [
        {
          "data": {
            "text/html": [
              "<div>\n",
              "<style scoped>\n",
              "    .dataframe tbody tr th:only-of-type {\n",
              "        vertical-align: middle;\n",
              "    }\n",
              "\n",
              "    .dataframe tbody tr th {\n",
              "        vertical-align: top;\n",
              "    }\n",
              "\n",
              "    .dataframe thead th {\n",
              "        text-align: right;\n",
              "    }\n",
              "</style>\n",
              "<table border=\"1\" class=\"dataframe\">\n",
              "  <thead>\n",
              "    <tr style=\"text-align: right;\">\n",
              "      <th></th>\n",
              "      <th>price</th>\n",
              "      <th>mark</th>\n",
              "      <th>model</th>\n",
              "      <th>year</th>\n",
              "      <th>mileage</th>\n",
              "      <th>engine_capacity</th>\n",
              "    </tr>\n",
              "  </thead>\n",
              "  <tbody>\n",
              "    <tr>\n",
              "      <th>0</th>\n",
              "      <td>80</td>\n",
              "      <td>nissan</td>\n",
              "      <td>march</td>\n",
              "      <td>2003</td>\n",
              "      <td>80000</td>\n",
              "      <td>1240</td>\n",
              "    </tr>\n",
              "    <tr>\n",
              "      <th>1</th>\n",
              "      <td>110</td>\n",
              "      <td>nissan</td>\n",
              "      <td>march</td>\n",
              "      <td>2010</td>\n",
              "      <td>53000</td>\n",
              "      <td>1200</td>\n",
              "    </tr>\n",
              "    <tr>\n",
              "      <th>2</th>\n",
              "      <td>165</td>\n",
              "      <td>nissan</td>\n",
              "      <td>lafesta</td>\n",
              "      <td>2005</td>\n",
              "      <td>47690</td>\n",
              "      <td>2000</td>\n",
              "    </tr>\n",
              "    <tr>\n",
              "      <th>3</th>\n",
              "      <td>190</td>\n",
              "      <td>toyota</td>\n",
              "      <td>avensis</td>\n",
              "      <td>2008</td>\n",
              "      <td>130661</td>\n",
              "      <td>1990</td>\n",
              "    </tr>\n",
              "    <tr>\n",
              "      <th>4</th>\n",
              "      <td>190</td>\n",
              "      <td>daihatsu</td>\n",
              "      <td>mira</td>\n",
              "      <td>2006</td>\n",
              "      <td>66300</td>\n",
              "      <td>660</td>\n",
              "    </tr>\n",
              "    <tr>\n",
              "      <th>5</th>\n",
              "      <td>190</td>\n",
              "      <td>daihatsu</td>\n",
              "      <td>mira</td>\n",
              "      <td>2004</td>\n",
              "      <td>81400</td>\n",
              "      <td>660</td>\n",
              "    </tr>\n",
              "    <tr>\n",
              "      <th>6</th>\n",
              "      <td>220</td>\n",
              "      <td>nissan</td>\n",
              "      <td>march</td>\n",
              "      <td>2010</td>\n",
              "      <td>117000</td>\n",
              "      <td>1200</td>\n",
              "    </tr>\n",
              "    <tr>\n",
              "      <th>7</th>\n",
              "      <td>230</td>\n",
              "      <td>volkswagen</td>\n",
              "      <td>passat</td>\n",
              "      <td>2008</td>\n",
              "      <td>127763</td>\n",
              "      <td>3190</td>\n",
              "    </tr>\n",
              "    <tr>\n",
              "      <th>8</th>\n",
              "      <td>275</td>\n",
              "      <td>mazda</td>\n",
              "      <td>bongo van</td>\n",
              "      <td>2010</td>\n",
              "      <td>178218</td>\n",
              "      <td>1800</td>\n",
              "    </tr>\n",
              "    <tr>\n",
              "      <th>9</th>\n",
              "      <td>283</td>\n",
              "      <td>honda</td>\n",
              "      <td>step wgn</td>\n",
              "      <td>2005</td>\n",
              "      <td>121655</td>\n",
              "      <td>2000</td>\n",
              "    </tr>\n",
              "  </tbody>\n",
              "</table>\n",
              "</div>"
            ]
          },
          "metadata": {},
          "output_type": "display_data"
        }
      ],
      "source": [
        "cars.head(10)"
      ]
    },
    {
      "cell_type": "markdown",
      "metadata": {
        "id": "YIEz4zQUKcC_"
      },
      "source": [
        "# Data processing"
      ]
    },
    {
      "cell_type": "code",
      "execution_count": null,
      "metadata": {
        "colab": {
          "base_uri": "https://localhost:8080/"
        },
        "id": "v2BYpEchKe4D",
        "outputId": "e8d0fdf6-5cfe-4022-f5b4-eb0e02ecdeed"
      },
      "outputs": [
        {
          "name": "stdout",
          "output_type": "stream",
          "text": [
            "0                price 190\n",
            "1                 mark toyota\n",
            "2                model avensis\n",
            "3                 year 2008\n",
            "4              mileage 130661\n",
            "5      engine_capacity 1990\n"
          ]
        }
      ],
      "source": [
        "# Sample data\n",
        "n = 3 # Index in the cars table\n",
        "for i in range(len(cars.values[n])) # Output the value of each column\n",
        "    print('{} {:>20} {}'.format(i, cars.columns[i], cars.values[n][i]))"
      ]
    },
    {
      "cell_type": "code",
      "execution_count": null,
      "metadata": {
        "colab": {
          "base_uri": "https://localhost:8080/"
        },
        "id": "9UgUASwGMrhT",
        "outputId": "c5a04b0d-8774-409e-f05c-480d51ae5eb0"
      },
      "outputs": [
        {
          "name": "stdout",
          "output_type": "stream",
          "text": [
            "<class 'pandas.core.frame.DataFrame'>\n",
            "RangeIndex: 2318 entries, 0 to 2317\n",
            "Data columns (total 6 columns):\n",
            " #   Column           Non-Null Count  Dtype \n",
            "---  ------           --------------  ----- \n",
            " 0   price            2318 non-null   int64 \n",
            " 1   mark             2318 non-null   object\n",
            " 2   model            2318 non-null   object\n",
            " 3   year             2318 non-null   int64 \n",
            " 4   mileage          2318 non-null   int64 \n",
            " 5   engine_capacity  2318 non-null   int64 \n",
            "dtypes: int64(4), object(2)\n",
            "memory usage: 108.8+ KB\n"
          ]
        }
      ],
      "source": [
        "# Check for Null values\n",
        "cars.info()"
      ]
    },
    {
      "cell_type": "markdown",
      "metadata": {
        "id": "W342QZa7NNQT"
      },
      "source": [
        "# Extract data from classes"
      ]
    },
    {
      "cell_type": "markdown",
      "metadata": {
        "id": "yoCUp4n2Nln6"
      },
      "source": [
        "**Car's model extraction**"
      ]
    },
    {
      "cell_type": "code",
      "execution_count": null,
      "metadata": {
        "colab": {
          "base_uri": "https://localhost:8080/"
        },
        "id": "mh8tRZGGOUq6",
        "outputId": "c086497e-2964-4740-f299-edac0b0e7922"
      },
      "outputs": [
        {
          "name": "stdout",
          "output_type": "stream",
          "text": [
            "mark\n",
            "toyota           1047\n",
            "honda             382\n",
            "nissan            320\n",
            "mazda             148\n",
            "suzuki            126\n",
            "mitsubishi         65\n",
            "daihatsu           56\n",
            "subaru             54\n",
            "volkswagen         52\n",
            "bmw                27\n",
            "hyundai             9\n",
            "mercedes-benz       5\n",
            "kia motors          4\n",
            "isuzu               3\n",
            "audi                3\n",
            "smart               2\n",
            "land rover          2\n",
            "peugeot             2\n",
            "volvo               2\n",
            "kubota              1\n",
            "chrysler            1\n",
            "gm                  1\n",
            "opel                1\n",
            "citroen             1\n",
            "mitsuoka            1\n",
            "ford                1\n",
            "hino                1\n",
            "jaguar              1\n",
            "Name: count, dtype: int64\n"
          ]
        }
      ],
      "source": [
        "print(cars['mark'].value_counts())"
      ]
    },
    {
      "cell_type": "markdown",
      "metadata": {
        "id": "2_xJIiVeOmqb"
      },
      "source": [
        "Most of the cars in the dataset belong to the most popular brands: Toyota, Hodna, Nissan, Mazda, Suzuki. The remaining brands can be categorized in one group “Other”."
      ]
    },
    {
      "cell_type": "code",
      "execution_count": null,
      "metadata": {
        "id": "BcM31zY8NrOE"
      },
      "outputs": [],
      "source": [
        "mark_class = {'toyota' : 0,\n",
        "              'honda'  : 1,\n",
        "              'nissan' : 2,\n",
        "              'mazda'  : 3,\n",
        "              'suzuki' : 4,\n",
        "              'Прочие-марки' : 5\n",
        "             }"
      ]
    },
    {
      "cell_type": "code",
      "execution_count": null,
      "metadata": {
        "id": "1URi_u83RvrV"
      },
      "outputs": [],
      "source": [
        "# Convert mark information to one hot encoding\n",
        "def mark2OHE(param):\n",
        "    # Define the dimensions of the output vector as the number of unique classes\n",
        "    num_classes = len(set(mark_class.values()))\n",
        "\n",
        "    # If we could not parse, the field is not populated,\n",
        "    # then set the default value (the last element in the dictionary)\n",
        "    if not isinstance(param, str):\n",
        "        param = list(mark_class.keys())[-1]\n",
        "\n",
        "    # Split the string into words\n",
        "    split_array = re.split(r'[ ,.:()?!]', param)\n",
        "\n",
        "    # Search for a brand in the string and assign it to a class\n",
        "    for word in split_array:\n",
        "        mark_cls = mark_class.get(word, -1)\n",
        "        if mark_cls >= 0:\n",
        "            break\n",
        "    else:\n",
        "        # Auto is not in mark_class - so its class is “Other-marks”\n",
        "        mark_cls = num_classes - 1\n",
        "\n",
        "    # Return as OHE vector\n",
        "    return utils.to_categorical(mark_cls, num_classes)"
      ]
    },
    {
      "cell_type": "code",
      "execution_count": null,
      "metadata": {
        "colab": {
          "base_uri": "https://localhost:8080/"
        },
        "id": "d5RK-2_eTzY9",
        "outputId": "ed21845e-7b8f-4db0-ca60-869f8789499e"
      },
      "outputs": [
        {
          "name": "stdout",
          "output_type": "stream",
          "text": [
            "Марка:  nissan\n",
            "Марка в формате OHE:  [0. 0. 1. 0. 0. 0.]\n"
          ]
        }
      ],
      "source": [
        "# Let's check\n",
        "N = 6\n",
        "print('Mark: ', cars.mark[N])\n",
        "print('Mark in OHE format: ', mark2OHE(cars.mark[N]))"
      ]
    },
    {
      "cell_type": "markdown",
      "metadata": {
        "id": "Yo7y-p76U4pF"
      },
      "source": [
        "**The year of manufacture extraction**"
      ]
    },
    {
      "cell_type": "code",
      "execution_count": null,
      "metadata": {
        "id": "uWpm8wBoVO9S"
      },
      "outputs": [],
      "source": [
        "# Year threshold list\n",
        "year_class = [1979, 1982, 1985, 1989, 1993, 1997, 2000, 2004, 2007, 2011, 2015]"
      ]
    },
    {
      "cell_type": "code",
      "execution_count": null,
      "metadata": {
        "id": "9wmIrUAkWv3s"
      },
      "outputs": [],
      "source": [
        "# Define a universal function for converting a number to the OHE range\n",
        "def year2OHE(param, class_list):\n",
        "    # Define the dimensionality of the output vector as the number of unique classes\n",
        "    num_classes = len(class_list) + 1\n",
        "\n",
        "    # Find an interval for the input value\n",
        "    for i in range(num_classes - 1):\n",
        "        if float(param) < class_list[i]:\n",
        "            cls = i # Interval found, class selection\n",
        "            break\n",
        "    else:\n",
        "        cls = 0 # Interval not found, select first class\n",
        "\n",
        "    # Return as an OHE vector\n",
        "    return utils.to_categorical(cls, num_classes)"
      ]
    },
    {
      "cell_type": "code",
      "execution_count": null,
      "metadata": {
        "colab": {
          "base_uri": "https://localhost:8080/"
        },
        "id": "tzYdGb6JX3Dz",
        "outputId": "57037a21-c333-4157-99ff-6c33f8c7e276"
      },
      "outputs": [
        {
          "name": "stdout",
          "output_type": "stream",
          "text": [
            "Год выпуска:  2005\n",
            "Год выпуска в формате OHE:  [0. 0. 0. 0. 0. 0. 0. 0. 1. 0. 0. 0.]\n"
          ]
        }
      ],
      "source": [
        "N = 9\n",
        "print('Year of manufacture: ', cars.year[N])\n",
        "print('Year of manufacture in OHE format: ', year2OHE(cars.year[N], year_class))"
      ]
    },
    {
      "cell_type": "markdown",
      "metadata": {
        "id": "9c_ADZt_iqP4"
      },
      "source": [
        "**Model Data Retrieval**"
      ]
    },
    {
      "cell_type": "code",
      "execution_count": null,
      "metadata": {
        "id": "YAmo3jYok_bM"
      },
      "outputs": [],
      "source": [
        "# Convert text data into numeric data for neural network training\n",
        "# Use the tokenizer built into Keras to partition the text and build a frequency dictionary\n",
        "tokenizer = Tokenizer(\n",
        "      num_words = 300, # vocabulary size\n",
        "      filters = '!“”\"#$#%&()*+,---./:;<=>?@[\\\\]^_`{|}~\\t\\n\\xa0', # remove extra characters\n",
        "      lower = True, # lower case\n",
        "      split = ' ', # split words\n",
        "      oov_token = 'unknown', # token for words not in the dictionary\n",
        "      char_level = False # split by words, not by single characters\n",
        ")\n",
        "\n",
        "# Build a frequency dictionary by models\n",
        "tokenizer.fit_on_texts(cars['model'])"
      ]
    },
    {
      "cell_type": "code",
      "execution_count": null,
      "metadata": {
        "colab": {
          "base_uri": "https://localhost:8080/"
        },
        "id": "uUeGx93Vmizd",
        "outputId": "ab3f08b8-a3c8-4ae3-af91-2f1cd6d6588a"
      },
      "outputs": [
        {
          "name": "stdout",
          "output_type": "stream",
          "text": [
            "[('unknown', 1), ('fit', 2), ('vitz', 3), ('passo', 4), ('ist', 5), ('ractis', 6), ('note', 7), ('x', 8), ('demio', 9), ('wish', 10), ('swift', 11), ('truck', 12), ('march', 13), ('mark', 14), ('sienta', 15), ('raum', 16), ('cube', 17), ('corolla', 18), ('noah', 19), ('alphard', 20), ('van', 21), ('tiida', 22), ('wagon', 23), ('polo', 24), ('spacio', 25), ('verisa', 26), ('trail', 27), ('voxy', 28), ('cargo', 29), ('pajero', 30), ('mini', 31), ('series', 32), ('legacy', 33), ('golf', 34), ('carry', 35), ('fun', 36), ('bongo', 37), ('step', 38), ('wgn', 39), ('insight', 40), ('brevis', 41), ('mira', 42), ('v', 43), ('3', 44), ('bluebird', 45), ('sylphy', 46), ('elgrand', 47), ('move', 48), ('bb', 49), ('vanette', 50)]\n",
            "Размер словаря 262\n"
          ]
        }
      ],
      "source": [
        "items = list(tokenizer.word_index.items())  # Get word indexes\n",
        "print(items[:50]) # View the top 50\n",
        "print(“Dictionary size”, len(items))         # Dictionary length"
      ]
    },
    {
      "cell_type": "code",
      "execution_count": null,
      "metadata": {
        "id": "CeWLuh-_npYd"
      },
      "outputs": [],
      "source": [
        "# Convert text into a sequence of indices\n",
        "model_seq = tokenizer.texts_to_sequences(cars['model'])"
      ]
    },
    {
      "cell_type": "code",
      "execution_count": null,
      "metadata": {
        "id": "geW29W1rn-A5"
      },
      "outputs": [],
      "source": [
        "# Convert index sequences into a bag of words\n",
        "x_train_model = tokenizer.sequences_to_matrix(model_seq)"
      ]
    },
    {
      "cell_type": "code",
      "execution_count": null,
      "metadata": {
        "colab": {
          "base_uri": "https://localhost:8080/"
        },
        "id": "9zcZg-EOoM1h",
        "outputId": "a390eafa-651f-40f3-bd78-90e2b07c6c2b"
      },
      "outputs": [
        {
          "name": "stdout",
          "output_type": "stream",
          "text": [
            "(2318, 300)\n",
            "[0. 0. 0. 0. 0. 0. 0. 0. 0. 0. 0. 0. 0. 0. 0. 0. 0. 0. 0. 0. 0. 0. 0. 0.\n",
            " 0. 0. 0. 0. 0. 0. 0. 0. 0. 0. 0. 0. 0. 0. 0. 0. 0. 0. 1. 0. 0. 0. 0. 0.\n",
            " 0. 0. 0. 0. 0. 0. 0. 0. 0. 0. 0. 0. 0. 0. 0. 0. 0. 0. 0. 0. 0. 0. 0. 0.\n",
            " 0. 0. 0. 0. 0. 0. 0. 0. 0. 0. 0. 0. 0. 0. 0. 0. 0. 0. 0. 0. 0. 0. 0. 0.\n",
            " 0. 0. 0. 0.]\n"
          ]
        }
      ],
      "source": [
        "# Checking the result\n",
        "print(x_train_model.shape)\n",
        "print(x_train_model[5][0:100])"
      ]
    },
    {
      "cell_type": "code",
      "execution_count": null,
      "metadata": {
        "colab": {
          "base_uri": "https://localhost:8080/"
        },
        "id": "f9FhR9BooVnp",
        "outputId": "f323d06f-7d96-4dd5-ad51-e5d5d0bee814"
      },
      "outputs": [
        {
          "name": "stdout",
          "output_type": "stream",
          "text": [
            "mira\n",
            "[42]\n",
            "[0. 0. 0. 0. 0. 0. 0. 0. 0. 0. 0. 0. 0. 0. 0. 0. 0. 0. 0. 0. 0. 0. 0. 0.\n",
            " 0. 0. 0. 0. 0. 0. 0. 0. 0. 0. 0. 0. 0. 0. 0. 0. 0. 0. 1. 0. 0. 0. 0. 0.\n",
            " 0. 0. 0. 0. 0. 0. 0. 0. 0. 0. 0. 0. 0. 0. 0. 0. 0. 0. 0. 0. 0. 0. 0. 0.\n",
            " 0. 0. 0. 0. 0. 0. 0. 0. 0. 0. 0. 0. 0. 0. 0. 0. 0. 0. 0. 0. 0. 0. 0. 0.\n",
            " 0. 0. 0. 0.]\n"
          ]
        }
      ],
      "source": [
        "# Checking the resulting data\n",
        "n = 5\n",
        "print(cars['model'][n]) # Model data in text\n",
        "print(model_seq[n]) # Model data in word indexes\n",
        "print(x_train_model[n][0:100]) # Model data in bag of words"
      ]
    },
    {
      "cell_type": "code",
      "execution_count": null,
      "metadata": {
        "id": "5r-YReC5ogyZ"
      },
      "outputs": [],
      "source": [
        "# Freeing memory from intermediate data\n",
        "del model_seq, tokenizer"
      ]
    },
    {
      "cell_type": "markdown",
      "metadata": {
        "id": "ELp8aNkjpTe-"
      },
      "source": [
        "**Обучающая выборка по числовым данным**"
      ]
    },
    {
      "cell_type": "code",
      "execution_count": null,
      "metadata": {
        "id": "nJqHANqMNQ6n"
      },
      "outputs": [],
      "source": [
        "# Fix column indexes\n",
        "COL_PRICE           = cars.columns.get_loc('price')\n",
        "COL_MARK            = cars.columns.get_loc('mark')\n",
        "COL_MODEL           = cars.columns.get_loc('model')\n",
        "COL_YEAR            = cars.columns.get_loc('year')\n",
        "COL_MILEAGE         = cars.columns.get_loc('mileage')\n",
        "COL_ENGINE_CAPACITY = cars.columns.get_loc('engine_capacity')\n",
        "\n",
        "\n",
        "def get_row_data(row):\n",
        "    # Combining all input data into one common vector\n",
        "    x_data = np.hstack([\n",
        "                mark2OHE(row[COL_MARK]),\n",
        "                year2OHE(row[COL_YEAR], year_class),\n",
        "                row[COL_MILEAGE],\n",
        "                row[COL_ENGINE_CAPACITY]\n",
        "              ])\n",
        "\n",
        "    # Price vector in thousands\n",
        "    y_data = np.array([row[COL_PRICE]]) / 1000\n",
        "\n",
        "\n",
        "    return x_data, y_data\n",
        "\n",
        "def get_train_data(dataFrame):\n",
        "    x_data = []\n",
        "    y_data = []\n",
        "\n",
        "    for row in dataFrame.values:\n",
        "        x, y = get_row_data(row)\n",
        "        x_data.append(x)\n",
        "        y_data.append(y)\n",
        "\n",
        "    return np.array(x_data), np.array(y_data)"
      ]
    },
    {
      "cell_type": "code",
      "execution_count": null,
      "metadata": {
        "id": "8ZsgOIGyqw0e"
      },
      "outputs": [],
      "source": [
        "# Generating a sample from a loaded data set\n",
        "x_train, y_train = get_train_data(cars)"
      ]
    },
    {
      "cell_type": "markdown",
      "metadata": {
        "id": "oGx1NjztNRf_"
      },
      "source": [
        "**Numerical data normalization**"
      ]
    },
    {
      "cell_type": "code",
      "execution_count": null,
      "metadata": {
        "id": "Hxm2okhvql9F"
      },
      "outputs": [],
      "source": [
        "# To normalize the data, we use an off-the-shelf tool\n",
        "x_scaler = StandardScaler()\n",
        "y_scaler = StandardScaler()\n",
        "\n",
        "# Normalize the output data to a standard normal distribution\n",
        "x_train_scaled = y_scaler.fit_transform(x_train)\n",
        "y_train_scaled = y_scaler.fit_transform(y_train)"
      ]
    },
    {
      "cell_type": "markdown",
      "metadata": {
        "id": "KbqbllxarEpr"
      },
      "source": [
        "# Model Architecture"
      ]
    },
    {
      "cell_type": "code",
      "execution_count": null,
      "metadata": {
        "id": "d0q33hrhrIJK"
      },
      "outputs": [],
      "source": [
        "input1 = Input((x_train_scaled.shape[1],))\n",
        "input2 = Input((x_train_model.shape[1],))\n",
        "\n",
        "# First input for numeric data\n",
        "x1 = Dense(20, activation='relu')(input1)\n",
        "x1 = Dense(500, activation='relu')(x1)\n",
        "x1 = Dense(200, activation='relu')(x1)\n",
        "\n",
        "# Second input for model data\n",
        "x2 = Dense(20, activation='relu')(input2)\n",
        "x2 = Dense(200, activation='relu')(x2)\n",
        "x2 = Dropout(0.3)(x2)\n",
        "\n",
        "# Concatenate two branches\n",
        "x = concatenate([x1, x2])\n",
        "\n",
        "# Intermediate layer\n",
        "x = Dense(30, activation='relu')(x)\n",
        "x = Dropout(0.3)(x)\n",
        "\n",
        "# Final regressing neuron\n",
        "x = Dense(1, activation='linear')(x)\n",
        "\n",
        "# Transfer to model\n",
        "model = Model((input1, input2), x)"
      ]
    },
    {
      "cell_type": "code",
      "execution_count": null,
      "metadata": {
        "colab": {
          "base_uri": "https://localhost:8080/",
          "height": 1000
        },
        "id": "bavT-iaaspJG",
        "outputId": "7ce1c469-c287-4a83-b337-a4597612d1e6"
      },
      "outputs": [
        {
          "data": {
            "image/png": "[encoded data removed]",
            "text/plain": [
              "<IPython.core.display.Image object>"
            ]
          },
          "execution_count": 117,
          "metadata": {},
          "output_type": "execute_result"
        }
      ],
      "source": [
        "# Let's take a look at the network diagram\n",
        "utils.plot_model(model, dpi=96, show_shapes=True, show_layer_activations=True)"
      ]
    },
    {
      "cell_type": "markdown",
      "metadata": {
        "id": "NtxKGLw5tBzm"
      },
      "source": [
        "# Model training"
      ]
    },
    {
      "cell_type": "code",
      "execution_count": null,
      "metadata": {
        "colab": {
          "base_uri": "https://localhost:8080/"
        },
        "id": "EhJLR7MztDvx",
        "outputId": "ca7066fc-ae21-4c52-a255-d58a8ee9542d"
      },
      "outputs": [
        {
          "name": "stdout",
          "output_type": "stream",
          "text": [
            "Epoch 1/100\n",
            "\u001b[1m8/8\u001b[0m \u001b[32m━━━━━━━━━━━━━━━━━━━━\u001b[0m\u001b[37m\u001b[0m \u001b[1m8s\u001b[0m 438ms/step - loss: 1.5891 - mae: 1.2505 - val_loss: 0.8609 - val_mae: 0.7416\n",
            "Epoch 2/100\n",
            "\u001b[1m8/8\u001b[0m \u001b[32m━━━━━━━━━━━━━━━━━━━━\u001b[0m\u001b[37m\u001b[0m \u001b[1m4s\u001b[0m 28ms/step - loss: 1.5708 - mae: 1.2431 - val_loss: 0.8706 - val_mae: 0.7443\n",
            "Epoch 3/100\n",
            "\u001b[1m8/8\u001b[0m \u001b[32m━━━━━━━━━━━━━━━━━━━━\u001b[0m\u001b[37m\u001b[0m \u001b[1m0s\u001b[0m 18ms/step - loss: 1.5450 - mae: 1.2322 - val_loss: 0.8808 - val_mae: 0.7470\n",
            "Epoch 4/100\n",
            "\u001b[1m8/8\u001b[0m \u001b[32m━━━━━━━━━━━━━━━━━━━━\u001b[0m\u001b[37m\u001b[0m \u001b[1m0s\u001b[0m 18ms/step - loss: 1.5176 - mae: 1.2212 - val_loss: 0.8914 - val_mae: 0.7499\n",
            "Epoch 5/100\n",
            "\u001b[1m8/8\u001b[0m \u001b[32m━━━━━━━━━━━━━━━━━━━━\u001b[0m\u001b[37m\u001b[0m \u001b[1m0s\u001b[0m 29ms/step - loss: 1.4604 - mae: 1.1975 - val_loss: 0.9027 - val_mae: 0.7529\n",
            "Epoch 6/100\n",
            "\u001b[1m8/8\u001b[0m \u001b[32m━━━━━━━━━━━━━━━━━━━━\u001b[0m\u001b[37m\u001b[0m \u001b[1m0s\u001b[0m 18ms/step - loss: 1.4266 - mae: 1.1835 - val_loss: 0.9145 - val_mae: 0.7561\n",
            "Epoch 7/100\n",
            "\u001b[1m8/8\u001b[0m \u001b[32m━━━━━━━━━━━━━━━━━━━━\u001b[0m\u001b[37m\u001b[0m \u001b[1m0s\u001b[0m 18ms/step - loss: 1.4069 - mae: 1.1738 - val_loss: 0.9269 - val_mae: 0.7595\n",
            "Epoch 8/100\n",
            "\u001b[1m8/8\u001b[0m \u001b[32m━━━━━━━━━━━━━━━━━━━━\u001b[0m\u001b[37m\u001b[0m \u001b[1m0s\u001b[0m 28ms/step - loss: 1.3827 - mae: 1.1638 - val_loss: 0.9400 - val_mae: 0.7632\n",
            "Epoch 9/100\n",
            "\u001b[1m8/8\u001b[0m \u001b[32m━━━━━━━━━━━━━━━━━━━━\u001b[0m\u001b[37m\u001b[0m \u001b[1m0s\u001b[0m 20ms/step - loss: 1.3125 - mae: 1.1330 - val_loss: 0.9537 - val_mae: 0.7672\n",
            "Epoch 10/100\n",
            "\u001b[1m8/8\u001b[0m \u001b[32m━━━━━━━━━━━━━━━━━━━━\u001b[0m\u001b[37m\u001b[0m \u001b[1m0s\u001b[0m 18ms/step - loss: 1.2858 - mae: 1.1212 - val_loss: 0.9678 - val_mae: 0.7714\n",
            "Epoch 11/100\n",
            "\u001b[1m8/8\u001b[0m \u001b[32m━━━━━━━━━━━━━━━━━━━━\u001b[0m\u001b[37m\u001b[0m \u001b[1m0s\u001b[0m 18ms/step - loss: 1.2945 - mae: 1.1246 - val_loss: 0.9824 - val_mae: 0.7757\n",
            "Epoch 12/100\n",
            "\u001b[1m8/8\u001b[0m \u001b[32m━━━━━━━━━━━━━━━━━━━━\u001b[0m\u001b[37m\u001b[0m \u001b[1m0s\u001b[0m 18ms/step - loss: 1.2824 - mae: 1.1187 - val_loss: 0.9980 - val_mae: 0.7803\n",
            "Epoch 13/100\n",
            "\u001b[1m8/8\u001b[0m \u001b[32m━━━━━━━━━━━━━━━━━━━━\u001b[0m\u001b[37m\u001b[0m \u001b[1m0s\u001b[0m 28ms/step - loss: 1.1985 - mae: 1.0811 - val_loss: 1.0145 - val_mae: 0.7853\n",
            "Epoch 14/100\n",
            "\u001b[1m8/8\u001b[0m \u001b[32m━━━━━━━━━━━━━━━━━━━━\u001b[0m\u001b[37m\u001b[0m \u001b[1m0s\u001b[0m 30ms/step - loss: 1.1687 - mae: 1.0620 - val_loss: 1.0319 - val_mae: 0.7905\n",
            "Epoch 15/100\n",
            "\u001b[1m8/8\u001b[0m \u001b[32m━━━━━━━━━━━━━━━━━━━━\u001b[0m\u001b[37m\u001b[0m \u001b[1m0s\u001b[0m 26ms/step - loss: 1.1231 - mae: 1.0421 - val_loss: 1.0502 - val_mae: 0.7961\n",
            "Epoch 16/100\n",
            "\u001b[1m8/8\u001b[0m \u001b[32m━━━━━━━━━━━━━━━━━━━━\u001b[0m\u001b[37m\u001b[0m \u001b[1m0s\u001b[0m 26ms/step - loss: 1.1086 - mae: 1.0350 - val_loss: 1.0694 - val_mae: 0.8018\n",
            "Epoch 17/100\n",
            "\u001b[1m8/8\u001b[0m \u001b[32m━━━━━━━━━━━━━━━━━━━━\u001b[0m\u001b[37m\u001b[0m \u001b[1m0s\u001b[0m 31ms/step - loss: 1.0961 - mae: 1.0291 - val_loss: 1.0899 - val_mae: 0.8081\n",
            "Epoch 18/100\n",
            "\u001b[1m8/8\u001b[0m \u001b[32m━━━━━━━━━━━━━━━━━━━━\u001b[0m\u001b[37m\u001b[0m \u001b[1m0s\u001b[0m 27ms/step - loss: 1.0511 - mae: 1.0072 - val_loss: 1.1112 - val_mae: 0.8145\n",
            "Epoch 19/100\n",
            "\u001b[1m8/8\u001b[0m \u001b[32m━━━━━━━━━━━━━━━━━━━━\u001b[0m\u001b[37m\u001b[0m \u001b[1m0s\u001b[0m 33ms/step - loss: 1.0229 - mae: 0.9931 - val_loss: 1.1337 - val_mae: 0.8213\n",
            "Epoch 20/100\n",
            "\u001b[1m8/8\u001b[0m \u001b[32m━━━━━━━━━━━━━━━━━━━━\u001b[0m\u001b[37m\u001b[0m \u001b[1m0s\u001b[0m 56ms/step - loss: 1.0027 - mae: 0.9809 - val_loss: 1.1571 - val_mae: 0.8285\n",
            "Epoch 21/100\n",
            "\u001b[1m8/8\u001b[0m \u001b[32m━━━━━━━━━━━━━━━━━━━━\u001b[0m\u001b[37m\u001b[0m \u001b[1m0s\u001b[0m 28ms/step - loss: 0.9658 - mae: 0.9613 - val_loss: 1.1823 - val_mae: 0.8362\n",
            "Epoch 22/100\n",
            "\u001b[1m8/8\u001b[0m \u001b[32m━━━━━━━━━━━━━━━━━━━━\u001b[0m\u001b[37m\u001b[0m \u001b[1m0s\u001b[0m 18ms/step - loss: 0.9466 - mae: 0.9511 - val_loss: 1.2085 - val_mae: 0.8441\n",
            "Epoch 23/100\n",
            "\u001b[1m8/8\u001b[0m \u001b[32m━━━━━━━━━━━━━━━━━━━━\u001b[0m\u001b[37m\u001b[0m \u001b[1m0s\u001b[0m 18ms/step - loss: 0.8945 - mae: 0.9174 - val_loss: 1.2358 - val_mae: 0.8524\n",
            "Epoch 24/100\n",
            "\u001b[1m8/8\u001b[0m \u001b[32m━━━━━━━━━━━━━━━━━━━━\u001b[0m\u001b[37m\u001b[0m \u001b[1m0s\u001b[0m 28ms/step - loss: 0.8602 - mae: 0.9018 - val_loss: 1.2640 - val_mae: 0.8609\n",
            "Epoch 25/100\n",
            "\u001b[1m8/8\u001b[0m \u001b[32m━━━━━━━━━━━━━━━━━━━━\u001b[0m\u001b[37m\u001b[0m \u001b[1m0s\u001b[0m 19ms/step - loss: 0.8612 - mae: 0.9008 - val_loss: 1.2932 - val_mae: 0.8698\n",
            "Epoch 26/100\n",
            "\u001b[1m8/8\u001b[0m \u001b[32m━━━━━━━━━━━━━━━━━━━━\u001b[0m\u001b[37m\u001b[0m \u001b[1m0s\u001b[0m 18ms/step - loss: 0.8158 - mae: 0.8751 - val_loss: 1.3237 - val_mae: 0.8790\n",
            "Epoch 27/100\n",
            "\u001b[1m8/8\u001b[0m \u001b[32m━━━━━━━━━━━━━━━━━━━━\u001b[0m\u001b[37m\u001b[0m \u001b[1m0s\u001b[0m 18ms/step - loss: 0.8110 - mae: 0.8722 - val_loss: 1.3551 - val_mae: 0.8886\n",
            "Epoch 28/100\n",
            "\u001b[1m8/8\u001b[0m \u001b[32m━━━━━━━━━━━━━━━━━━━━\u001b[0m\u001b[37m\u001b[0m \u001b[1m0s\u001b[0m 18ms/step - loss: 0.7573 - mae: 0.8363 - val_loss: 1.3879 - val_mae: 0.8986\n",
            "Epoch 29/100\n",
            "\u001b[1m8/8\u001b[0m \u001b[32m━━━━━━━━━━━━━━━━━━━━\u001b[0m\u001b[37m\u001b[0m \u001b[1m0s\u001b[0m 19ms/step - loss: 0.7524 - mae: 0.8368 - val_loss: 1.4218 - val_mae: 0.9088\n",
            "Epoch 30/100\n",
            "\u001b[1m8/8\u001b[0m \u001b[32m━━━━━━━━━━━━━━━━━━━━\u001b[0m\u001b[37m\u001b[0m \u001b[1m0s\u001b[0m 18ms/step - loss: 0.6983 - mae: 0.7971 - val_loss: 1.4572 - val_mae: 0.9195\n",
            "Epoch 31/100\n",
            "\u001b[1m8/8\u001b[0m \u001b[32m━━━━━━━━━━━━━━━━━━━━\u001b[0m\u001b[37m\u001b[0m \u001b[1m0s\u001b[0m 18ms/step - loss: 0.7136 - mae: 0.8112 - val_loss: 1.4939 - val_mae: 0.9306\n",
            "Epoch 32/100\n",
            "\u001b[1m8/8\u001b[0m \u001b[32m━━━━━━━━━━━━━━━━━━━━\u001b[0m\u001b[37m\u001b[0m \u001b[1m0s\u001b[0m 27ms/step - loss: 0.6912 - mae: 0.7961 - val_loss: 1.5320 - val_mae: 0.9422\n",
            "Epoch 33/100\n",
            "\u001b[1m8/8\u001b[0m \u001b[32m━━━━━━━━━━━━━━━━━━━━\u001b[0m\u001b[37m\u001b[0m \u001b[1m0s\u001b[0m 20ms/step - loss: 0.6142 - mae: 0.7455 - val_loss: 1.5719 - val_mae: 0.9543\n",
            "Epoch 34/100\n",
            "\u001b[1m8/8\u001b[0m \u001b[32m━━━━━━━━━━━━━━━━━━━━\u001b[0m\u001b[37m\u001b[0m \u001b[1m0s\u001b[0m 18ms/step - loss: 0.6346 - mae: 0.7552 - val_loss: 1.6141 - val_mae: 0.9672\n",
            "Epoch 35/100\n",
            "\u001b[1m8/8\u001b[0m \u001b[32m━━━━━━━━━━━━━━━━━━━━\u001b[0m\u001b[37m\u001b[0m \u001b[1m0s\u001b[0m 27ms/step - loss: 0.5854 - mae: 0.7161 - val_loss: 1.6560 - val_mae: 0.9800\n",
            "Epoch 36/100\n",
            "\u001b[1m8/8\u001b[0m \u001b[32m━━━━━━━━━━━━━━━━━━━━\u001b[0m\u001b[37m\u001b[0m \u001b[1m0s\u001b[0m 28ms/step - loss: 0.5984 - mae: 0.7284 - val_loss: 1.6989 - val_mae: 0.9931\n",
            "Epoch 37/100\n",
            "\u001b[1m8/8\u001b[0m \u001b[32m━━━━━━━━━━━━━━━━━━━━\u001b[0m\u001b[37m\u001b[0m \u001b[1m0s\u001b[0m 27ms/step - loss: 0.5458 - mae: 0.6906 - val_loss: 1.7401 - val_mae: 1.0058\n",
            "Epoch 38/100\n",
            "\u001b[1m8/8\u001b[0m \u001b[32m━━━━━━━━━━━━━━━━━━━━\u001b[0m\u001b[37m\u001b[0m \u001b[1m0s\u001b[0m 28ms/step - loss: 0.5489 - mae: 0.6899 - val_loss: 1.7855 - val_mae: 1.0198\n",
            "Epoch 39/100\n",
            "\u001b[1m8/8\u001b[0m \u001b[32m━━━━━━━━━━━━━━━━━━━━\u001b[0m\u001b[37m\u001b[0m \u001b[1m0s\u001b[0m 18ms/step - loss: 0.4974 - mae: 0.6530 - val_loss: 1.8341 - val_mae: 1.0347\n",
            "Epoch 40/100\n",
            "\u001b[1m8/8\u001b[0m \u001b[32m━━━━━━━━━━━━━━━━━━━━\u001b[0m\u001b[37m\u001b[0m \u001b[1m0s\u001b[0m 27ms/step - loss: 0.4873 - mae: 0.6473 - val_loss: 1.8848 - val_mae: 1.0505\n",
            "Epoch 41/100\n",
            "\u001b[1m8/8\u001b[0m \u001b[32m━━━━━━━━━━━━━━━━━━━━\u001b[0m\u001b[37m\u001b[0m \u001b[1m0s\u001b[0m 27ms/step - loss: 0.4830 - mae: 0.6416 - val_loss: 1.9367 - val_mae: 1.0666\n",
            "Epoch 42/100\n",
            "\u001b[1m8/8\u001b[0m \u001b[32m━━━━━━━━━━━━━━━━━━━━\u001b[0m\u001b[37m\u001b[0m \u001b[1m0s\u001b[0m 20ms/step - loss: 0.4501 - mae: 0.6115 - val_loss: 1.9883 - val_mae: 1.0825\n",
            "Epoch 43/100\n",
            "\u001b[1m8/8\u001b[0m \u001b[32m━━━━━━━━━━━━━━━━━━━━\u001b[0m\u001b[37m\u001b[0m \u001b[1m0s\u001b[0m 19ms/step - loss: 0.4052 - mae: 0.5774 - val_loss: 2.0405 - val_mae: 1.0987\n",
            "Epoch 44/100\n",
            "\u001b[1m8/8\u001b[0m \u001b[32m━━━━━━━━━━━━━━━━━━━━\u001b[0m\u001b[37m\u001b[0m \u001b[1m0s\u001b[0m 29ms/step - loss: 0.3937 - mae: 0.5626 - val_loss: 2.0929 - val_mae: 1.1150\n",
            "Epoch 45/100\n",
            "\u001b[1m8/8\u001b[0m \u001b[32m━━━━━━━━━━━━━━━━━━━━\u001b[0m\u001b[37m\u001b[0m \u001b[1m0s\u001b[0m 27ms/step - loss: 0.3769 - mae: 0.5491 - val_loss: 2.1413 - val_mae: 1.1301\n",
            "Epoch 46/100\n",
            "\u001b[1m8/8\u001b[0m \u001b[32m━━━━━━━━━━━━━━━━━━━━\u001b[0m\u001b[37m\u001b[0m \u001b[1m0s\u001b[0m 18ms/step - loss: 0.3609 - mae: 0.5354 - val_loss: 2.1914 - val_mae: 1.1457\n",
            "Epoch 47/100\n",
            "\u001b[1m8/8\u001b[0m \u001b[32m━━━━━━━━━━━━━━━━━━━━\u001b[0m\u001b[37m\u001b[0m \u001b[1m0s\u001b[0m 17ms/step - loss: 0.3649 - mae: 0.5424 - val_loss: 2.2421 - val_mae: 1.1613\n",
            "Epoch 48/100\n",
            "\u001b[1m8/8\u001b[0m \u001b[32m━━━━━━━━━━━━━━━━━━━━\u001b[0m\u001b[37m\u001b[0m \u001b[1m0s\u001b[0m 18ms/step - loss: 0.3531 - mae: 0.5194 - val_loss: 2.2928 - val_mae: 1.1770\n",
            "Epoch 49/100\n",
            "\u001b[1m8/8\u001b[0m \u001b[32m━━━━━━━━━━━━━━━━━━━━\u001b[0m\u001b[37m\u001b[0m \u001b[1m0s\u001b[0m 19ms/step - loss: 0.3445 - mae: 0.5075 - val_loss: 2.3414 - val_mae: 1.1922\n",
            "Epoch 50/100\n",
            "\u001b[1m8/8\u001b[0m \u001b[32m━━━━━━━━━━━━━━━━━━━━\u001b[0m\u001b[37m\u001b[0m \u001b[1m0s\u001b[0m 18ms/step - loss: 0.3326 - mae: 0.5008 - val_loss: 2.3910 - val_mae: 1.2074\n",
            "Epoch 51/100\n",
            "\u001b[1m8/8\u001b[0m \u001b[32m━━━━━━━━━━━━━━━━━━━━\u001b[0m\u001b[37m\u001b[0m \u001b[1m0s\u001b[0m 18ms/step - loss: 0.3313 - mae: 0.4880 - val_loss: 2.4367 - val_mae: 1.2216\n",
            "Epoch 52/100\n",
            "\u001b[1m8/8\u001b[0m \u001b[32m━━━━━━━━━━━━━━━━━━━━\u001b[0m\u001b[37m\u001b[0m \u001b[1m0s\u001b[0m 18ms/step - loss: 0.3325 - mae: 0.4973 - val_loss: 2.4798 - val_mae: 1.2349\n",
            "Epoch 53/100\n",
            "\u001b[1m8/8\u001b[0m \u001b[32m━━━━━━━━━━━━━━━━━━━━\u001b[0m\u001b[37m\u001b[0m \u001b[1m0s\u001b[0m 19ms/step - loss: 0.2989 - mae: 0.4614 - val_loss: 2.5218 - val_mae: 1.2478\n",
            "Epoch 54/100\n",
            "\u001b[1m8/8\u001b[0m \u001b[32m━━━━━━━━━━━━━━━━━━━━\u001b[0m\u001b[37m\u001b[0m \u001b[1m0s\u001b[0m 19ms/step - loss: 0.2653 - mae: 0.4344 - val_loss: 2.5634 - val_mae: 1.2605\n",
            "Epoch 55/100\n",
            "\u001b[1m8/8\u001b[0m \u001b[32m━━━━━━━━━━━━━━━━━━━━\u001b[0m\u001b[37m\u001b[0m \u001b[1m0s\u001b[0m 27ms/step - loss: 0.2721 - mae: 0.4440 - val_loss: 2.6038 - val_mae: 1.2729\n",
            "Epoch 56/100\n",
            "\u001b[1m8/8\u001b[0m \u001b[32m━━━━━━━━━━━━━━━━━━━━\u001b[0m\u001b[37m\u001b[0m \u001b[1m0s\u001b[0m 18ms/step - loss: 0.2616 - mae: 0.4333 - val_loss: 2.6406 - val_mae: 1.2842\n",
            "Epoch 57/100\n",
            "\u001b[1m8/8\u001b[0m \u001b[32m━━━━━━━━━━━━━━━━━━━━\u001b[0m\u001b[37m\u001b[0m \u001b[1m0s\u001b[0m 18ms/step - loss: 0.2391 - mae: 0.4091 - val_loss: 2.6784 - val_mae: 1.2957\n",
            "Epoch 58/100\n",
            "\u001b[1m8/8\u001b[0m \u001b[32m━━━━━━━━━━━━━━━━━━━━\u001b[0m\u001b[37m\u001b[0m \u001b[1m0s\u001b[0m 18ms/step - loss: 0.2707 - mae: 0.4261 - val_loss: 2.7157 - val_mae: 1.3071\n",
            "Epoch 59/100\n",
            "\u001b[1m8/8\u001b[0m \u001b[32m━━━━━━━━━━━━━━━━━━━━\u001b[0m\u001b[37m\u001b[0m \u001b[1m0s\u001b[0m 30ms/step - loss: 0.2288 - mae: 0.3986 - val_loss: 2.7499 - val_mae: 1.3176\n",
            "Epoch 60/100\n",
            "\u001b[1m8/8\u001b[0m \u001b[32m━━━━━━━━━━━━━━━━━━━━\u001b[0m\u001b[37m\u001b[0m \u001b[1m0s\u001b[0m 18ms/step - loss: 0.2941 - mae: 0.4223 - val_loss: 2.7740 - val_mae: 1.3253\n",
            "Epoch 61/100\n",
            "\u001b[1m8/8\u001b[0m \u001b[32m━━━━━━━━━━━━━━━━━━━━\u001b[0m\u001b[37m\u001b[0m \u001b[1m0s\u001b[0m 17ms/step - loss: 0.2509 - mae: 0.4169 - val_loss: 2.8040 - val_mae: 1.3345\n",
            "Epoch 62/100\n",
            "\u001b[1m8/8\u001b[0m \u001b[32m━━━━━━━━━━━━━━━━━━━━\u001b[0m\u001b[37m\u001b[0m \u001b[1m0s\u001b[0m 18ms/step - loss: 0.2491 - mae: 0.4042 - val_loss: 2.8284 - val_mae: 1.3421\n",
            "Epoch 63/100\n",
            "\u001b[1m8/8\u001b[0m \u001b[32m━━━━━━━━━━━━━━━━━━━━\u001b[0m\u001b[37m\u001b[0m \u001b[1m0s\u001b[0m 19ms/step - loss: 0.2275 - mae: 0.3891 - val_loss: 2.8501 - val_mae: 1.3490\n",
            "Epoch 64/100\n",
            "\u001b[1m8/8\u001b[0m \u001b[32m━━━━━━━━━━━━━━━━━━━━\u001b[0m\u001b[37m\u001b[0m \u001b[1m0s\u001b[0m 29ms/step - loss: 0.2493 - mae: 0.4041 - val_loss: 2.8731 - val_mae: 1.3562\n",
            "Epoch 65/100\n",
            "\u001b[1m8/8\u001b[0m \u001b[32m━━━━━━━━━━━━━━━━━━━━\u001b[0m\u001b[37m\u001b[0m \u001b[1m0s\u001b[0m 18ms/step - loss: 0.2167 - mae: 0.3791 - val_loss: 2.8956 - val_mae: 1.3633\n",
            "Epoch 66/100\n",
            "\u001b[1m8/8\u001b[0m \u001b[32m━━━━━━━━━━━━━━━━━━━━\u001b[0m\u001b[37m\u001b[0m \u001b[1m0s\u001b[0m 18ms/step - loss: 0.2397 - mae: 0.3880 - val_loss: 2.9138 - val_mae: 1.3692\n",
            "Epoch 67/100\n",
            "\u001b[1m8/8\u001b[0m \u001b[32m━━━━━━━━━━━━━━━━━━━━\u001b[0m\u001b[37m\u001b[0m \u001b[1m0s\u001b[0m 19ms/step - loss: 0.1950 - mae: 0.3552 - val_loss: 2.9373 - val_mae: 1.3765\n",
            "Epoch 68/100\n",
            "\u001b[1m8/8\u001b[0m \u001b[32m━━━━━━━━━━━━━━━━━━━━\u001b[0m\u001b[37m\u001b[0m \u001b[1m0s\u001b[0m 34ms/step - loss: 0.2279 - mae: 0.3833 - val_loss: 2.9623 - val_mae: 1.3843\n",
            "Epoch 69/100\n",
            "\u001b[1m8/8\u001b[0m \u001b[32m━━━━━━━━━━━━━━━━━━━━\u001b[0m\u001b[37m\u001b[0m \u001b[1m0s\u001b[0m 31ms/step - loss: 0.2150 - mae: 0.3711 - val_loss: 2.9860 - val_mae: 1.3917\n",
            "Epoch 70/100\n",
            "\u001b[1m8/8\u001b[0m \u001b[32m━━━━━━━━━━━━━━━━━━━━\u001b[0m\u001b[37m\u001b[0m \u001b[1m0s\u001b[0m 26ms/step - loss: 0.2417 - mae: 0.3806 - val_loss: 3.0040 - val_mae: 1.3975\n",
            "Epoch 71/100\n",
            "\u001b[1m8/8\u001b[0m \u001b[32m━━━━━━━━━━━━━━━━━━━━\u001b[0m\u001b[37m\u001b[0m \u001b[1m0s\u001b[0m 31ms/step - loss: 0.2191 - mae: 0.3731 - val_loss: 3.0176 - val_mae: 1.4021\n",
            "Epoch 72/100\n",
            "\u001b[1m8/8\u001b[0m \u001b[32m━━━━━━━━━━━━━━━━━━━━\u001b[0m\u001b[37m\u001b[0m \u001b[1m0s\u001b[0m 27ms/step - loss: 0.2405 - mae: 0.3602 - val_loss: 3.0236 - val_mae: 1.4048\n",
            "Epoch 73/100\n",
            "\u001b[1m8/8\u001b[0m \u001b[32m━━━━━━━━━━━━━━━━━━━━\u001b[0m\u001b[37m\u001b[0m \u001b[1m0s\u001b[0m 32ms/step - loss: 0.1857 - mae: 0.3540 - val_loss: 3.0387 - val_mae: 1.4098\n",
            "Epoch 74/100\n",
            "\u001b[1m8/8\u001b[0m \u001b[32m━━━━━━━━━━━━━━━━━━━━\u001b[0m\u001b[37m\u001b[0m \u001b[1m0s\u001b[0m 32ms/step - loss: 0.2334 - mae: 0.3772 - val_loss: 3.0486 - val_mae: 1.4134\n",
            "Epoch 75/100\n",
            "\u001b[1m8/8\u001b[0m \u001b[32m━━━━━━━━━━━━━━━━━━━━\u001b[0m\u001b[37m\u001b[0m \u001b[1m0s\u001b[0m 33ms/step - loss: 0.2455 - mae: 0.3784 - val_loss: 3.0510 - val_mae: 1.4150\n",
            "Epoch 76/100\n",
            "\u001b[1m8/8\u001b[0m \u001b[32m━━━━━━━━━━━━━━━━━━━━\u001b[0m\u001b[37m\u001b[0m \u001b[1m0s\u001b[0m 18ms/step - loss: 0.2042 - mae: 0.3636 - val_loss: 3.0515 - val_mae: 1.4160\n",
            "Epoch 77/100\n",
            "\u001b[1m8/8\u001b[0m \u001b[32m━━━━━━━━━━━━━━━━━━━━\u001b[0m\u001b[37m\u001b[0m \u001b[1m0s\u001b[0m 18ms/step - loss: 0.2013 - mae: 0.3593 - val_loss: 3.0471 - val_mae: 1.4157\n",
            "Epoch 78/100\n",
            "\u001b[1m8/8\u001b[0m \u001b[32m━━━━━━━━━━━━━━━━━━━━\u001b[0m\u001b[37m\u001b[0m \u001b[1m0s\u001b[0m 18ms/step - loss: 0.1772 - mae: 0.3412 - val_loss: 3.0508 - val_mae: 1.4176\n",
            "Epoch 79/100\n",
            "\u001b[1m8/8\u001b[0m \u001b[32m━━━━━━━━━━━━━━━━━━━━\u001b[0m\u001b[37m\u001b[0m \u001b[1m0s\u001b[0m 18ms/step - loss: 0.2012 - mae: 0.3602 - val_loss: 3.0584 - val_mae: 1.4204\n",
            "Epoch 80/100\n",
            "\u001b[1m8/8\u001b[0m \u001b[32m━━━━━━━━━━━━━━━━━━━━\u001b[0m\u001b[37m\u001b[0m \u001b[1m0s\u001b[0m 18ms/step - loss: 0.1507 - mae: 0.3081 - val_loss: 3.0722 - val_mae: 1.4249\n",
            "Epoch 81/100\n",
            "\u001b[1m8/8\u001b[0m \u001b[32m━━━━━━━━━━━━━━━━━━━━\u001b[0m\u001b[37m\u001b[0m \u001b[1m0s\u001b[0m 18ms/step - loss: 0.1697 - mae: 0.3336 - val_loss: 3.0833 - val_mae: 1.4286\n",
            "Epoch 82/100\n",
            "\u001b[1m8/8\u001b[0m \u001b[32m━━━━━━━━━━━━━━━━━━━━\u001b[0m\u001b[37m\u001b[0m \u001b[1m0s\u001b[0m 27ms/step - loss: 0.1784 - mae: 0.3393 - val_loss: 3.0961 - val_mae: 1.4328\n",
            "Epoch 83/100\n",
            "\u001b[1m8/8\u001b[0m \u001b[32m━━━━━━━━━━━━━━━━━━━━\u001b[0m\u001b[37m\u001b[0m \u001b[1m0s\u001b[0m 28ms/step - loss: 0.1620 - mae: 0.3157 - val_loss: 3.0996 - val_mae: 1.4343\n",
            "Epoch 84/100\n",
            "\u001b[1m8/8\u001b[0m \u001b[32m━━━━━━━━━━━━━━━━━━━━\u001b[0m\u001b[37m\u001b[0m \u001b[1m0s\u001b[0m 19ms/step - loss: 0.1823 - mae: 0.3332 - val_loss: 3.1056 - val_mae: 1.4366\n",
            "Epoch 85/100\n",
            "\u001b[1m8/8\u001b[0m \u001b[32m━━━━━━━━━━━━━━━━━━━━\u001b[0m\u001b[37m\u001b[0m \u001b[1m0s\u001b[0m 18ms/step - loss: 0.1721 - mae: 0.3385 - val_loss: 3.1124 - val_mae: 1.4392\n",
            "Epoch 86/100\n",
            "\u001b[1m8/8\u001b[0m \u001b[32m━━━━━━━━━━━━━━━━━━━━\u001b[0m\u001b[37m\u001b[0m \u001b[1m0s\u001b[0m 18ms/step - loss: 0.1729 - mae: 0.3304 - val_loss: 3.1179 - val_mae: 1.4413\n",
            "Epoch 87/100\n",
            "\u001b[1m8/8\u001b[0m \u001b[32m━━━━━━━━━━━━━━━━━━━━\u001b[0m\u001b[37m\u001b[0m \u001b[1m0s\u001b[0m 18ms/step - loss: 0.1707 - mae: 0.3292 - val_loss: 3.1312 - val_mae: 1.4456\n",
            "Epoch 88/100\n",
            "\u001b[1m8/8\u001b[0m \u001b[32m━━━━━━━━━━━━━━━━━━━━\u001b[0m\u001b[37m\u001b[0m \u001b[1m0s\u001b[0m 27ms/step - loss: 0.1935 - mae: 0.3426 - val_loss: 3.1409 - val_mae: 1.4487\n",
            "Epoch 89/100\n",
            "\u001b[1m8/8\u001b[0m \u001b[32m━━━━━━━━━━━━━━━━━━━━\u001b[0m\u001b[37m\u001b[0m \u001b[1m0s\u001b[0m 27ms/step - loss: 0.1615 - mae: 0.3274 - val_loss: 3.1505 - val_mae: 1.4519\n",
            "Epoch 90/100\n",
            "\u001b[1m8/8\u001b[0m \u001b[32m━━━━━━━━━━━━━━━━━━━━\u001b[0m\u001b[37m\u001b[0m \u001b[1m0s\u001b[0m 18ms/step - loss: 0.1603 - mae: 0.3097 - val_loss: 3.1582 - val_mae: 1.4545\n",
            "Epoch 91/100\n",
            "\u001b[1m8/8\u001b[0m \u001b[32m━━━━━━━━━━━━━━━━━━━━\u001b[0m\u001b[37m\u001b[0m \u001b[1m0s\u001b[0m 18ms/step - loss: 0.1761 - mae: 0.3239 - val_loss: 3.1667 - val_mae: 1.4573\n",
            "Epoch 92/100\n",
            "\u001b[1m8/8\u001b[0m \u001b[32m━━━━━━━━━━━━━━━━━━━━\u001b[0m\u001b[37m\u001b[0m \u001b[1m0s\u001b[0m 19ms/step - loss: 0.1672 - mae: 0.3236 - val_loss: 3.1711 - val_mae: 1.4590\n",
            "Epoch 93/100\n",
            "\u001b[1m8/8\u001b[0m \u001b[32m━━━━━━━━━━━━━━━━━━━━\u001b[0m\u001b[37m\u001b[0m \u001b[1m0s\u001b[0m 28ms/step - loss: 0.1552 - mae: 0.3156 - val_loss: 3.1749 - val_mae: 1.4605\n",
            "Epoch 94/100\n",
            "\u001b[1m8/8\u001b[0m \u001b[32m━━━━━━━━━━━━━━━━━━━━\u001b[0m\u001b[37m\u001b[0m \u001b[1m0s\u001b[0m 27ms/step - loss: 0.1696 - mae: 0.3088 - val_loss: 3.1728 - val_mae: 1.4605\n",
            "Epoch 95/100\n",
            "\u001b[1m8/8\u001b[0m \u001b[32m━━━━━━━━━━━━━━━━━━━━\u001b[0m\u001b[37m\u001b[0m \u001b[1m0s\u001b[0m 28ms/step - loss: 0.1629 - mae: 0.3156 - val_loss: 3.1771 - val_mae: 1.4622\n",
            "Epoch 96/100\n",
            "\u001b[1m8/8\u001b[0m \u001b[32m━━━━━━━━━━━━━━━━━━━━\u001b[0m\u001b[37m\u001b[0m \u001b[1m0s\u001b[0m 18ms/step - loss: 0.1494 - mae: 0.3084 - val_loss: 3.1793 - val_mae: 1.4632\n",
            "Epoch 97/100\n",
            "\u001b[1m8/8\u001b[0m \u001b[32m━━━━━━━━━━━━━━━━━━━━\u001b[0m\u001b[37m\u001b[0m \u001b[1m0s\u001b[0m 17ms/step - loss: 0.1367 - mae: 0.2945 - val_loss: 3.1851 - val_mae: 1.4653\n",
            "Epoch 98/100\n",
            "\u001b[1m8/8\u001b[0m \u001b[32m━━━━━━━━━━━━━━━━━━━━\u001b[0m\u001b[37m\u001b[0m \u001b[1m0s\u001b[0m 18ms/step - loss: 0.1574 - mae: 0.3136 - val_loss: 3.1953 - val_mae: 1.4685\n",
            "Epoch 99/100\n",
            "\u001b[1m8/8\u001b[0m \u001b[32m━━━━━━━━━━━━━━━━━━━━\u001b[0m\u001b[37m\u001b[0m \u001b[1m0s\u001b[0m 18ms/step - loss: 0.1607 - mae: 0.3225 - val_loss: 3.2014 - val_mae: 1.4707\n",
            "Epoch 100/100\n",
            "\u001b[1m8/8\u001b[0m \u001b[32m━━━━━━━━━━━━━━━━━━━━\u001b[0m\u001b[37m\u001b[0m \u001b[1m0s\u001b[0m 29ms/step - loss: 0.1696 - mae: 0.3355 - val_loss: 3.2074 - val_mae: 1.4728\n"
          ]
        }
      ],
      "source": [
        "model.compile(optimizer=Adam(learning_rate=1e-5), loss='mse', metrics=['mae'])\n",
        "\n",
        "history = model.fit([x_train_scaled[1854:], x_train_model[1854:]],\n",
        "                    y_train_scaled[1854:],\n",
        "                    batch_size=64,\n",
        "                    epochs=100,\n",
        "                    validation_data=([x_train_scaled[:1854], x_train_model[:1854]], y_train_scaled[:1854]),\n",
        "                    verbose=1)"
      ]
    },
    {
      "cell_type": "code",
      "execution_count": null,
      "metadata": {
        "colab": {
          "base_uri": "https://localhost:8080/",
          "height": 449
        },
        "id": "-AIRXijcttUi",
        "outputId": "f798e320-f388-4fdc-c691-6198ddcc4950"
      },
      "outputs": [
        {
          "data": {
            "image/png": "[encoded data removed]",
            "text/plain": [
              "<Figure size 640x480 with 1 Axes>"
            ]
          },
          "metadata": {},
          "output_type": "display_data"
        }
      ],
      "source": [
        "plt.plot(history.history['mae'], label='Mean absolute error on training set')\n",
        "plt.plot(history.history['val_mae'], label='Average absolute error on the validation set')\n",
        "plt.xlabel('Training epoch')\n",
        "plt.ylabel('Mean absolute error')\n",
        "plt.legend()\n",
        "plt.show()"
      ]
    },
    {
      "cell_type": "code",
      "execution_count": null,
      "metadata": {
        "colab": {
          "base_uri": "https://localhost:8080/",
          "height": 773
        },
        "id": "Juxc8Il_ukgv",
        "outputId": "dd709197-e8e4-41c2-9e3f-4ce67d4dd2f9"
      },
      "outputs": [
        {
          "name": "stdout",
          "output_type": "stream",
          "text": [
            "\u001b[1m4/4\u001b[0m \u001b[32m━━━━━━━━━━━━━━━━━━━━\u001b[0m\u001b[37m\u001b[0m \u001b[1m0s\u001b[0m 66ms/step\n",
            "Средняя абсолютная ошибка: 0.0433254942035675 \n",
            "\n",
            "Реальное значение:   1.25  Предсказанное значение:   1.27  Разница:   0.02\n",
            "Реальное значение:   1.25  Предсказанное значение:   1.25  Разница:   0.00\n",
            "Реальное значение:   1.25  Предсказанное значение:   1.28  Разница:   0.03\n",
            "Реальное значение:   1.25  Предсказанное значение:   1.31  Разница:   0.06\n",
            "Реальное значение:   1.25  Предсказанное значение:   1.28  Разница:   0.03\n",
            "Реальное значение:   1.26  Предсказанное значение:   1.20  Разница:   0.06\n",
            "Реальное значение:   1.26  Предсказанное значение:   1.47  Разница:   0.21\n",
            "Реальное значение:   1.26  Предсказанное значение:   1.39  Разница:   0.13\n",
            "Реальное значение:   1.26  Предсказанное значение:   1.34  Разница:   0.08\n",
            "Реальное значение:   1.26  Предсказанное значение:   1.35  Разница:   0.09\n"
          ]
        },
        {
          "data": {
            "image/png": "[encoded data removed]",
            "text/plain": [
              "<Figure size 600x600 with 1 Axes>"
            ]
          },
          "metadata": {},
          "output_type": "display_data"
        }
      ],
      "source": [
        "pred = model.predict([x_train_scaled[1854:1954], x_train_model[1854:1954]])\n",
        "\n",
        "pred = y_scaler.inverse_transform(pred) # Inverse normalization procedure\n",
        "\n",
        "print('Mean absolute error:', mean_absolute_error(pred, y_train[1854:1954]), '\\n') # calculate mean absolute error\n",
        "\n",
        "for i in range(10):\n",
        "    print('Actual value: {:6.2f} Predicted value: {:6.2f} Difference: {:6.2f}'.format(y_train[1854:1954][i, 0],\n",
        "                                                                                                pred[i, 0],\n",
        "                                                                                                abs(y_train[1854:1954][i, 0] - pred[i, 0]))))\n",
        "fig, ax = plt.subplots(figsize=(6, 6))\n",
        "ax.scatter(y_train[1854:1954], pred) # Draw the dot plot\n",
        "ax.set_xlim(0, 100) # x-axis constraint\n",
        "ax.set_ylim(0, 100) # Limit axis by x\n",
        "ax.plot(plt.xlim(), plt.ylim(), 'r') # Draw diagonal line\n",
        "plt.xlabel('Correct values')\n",
        "plt.ylabel('Predictions')\n",
        "plt.grid()\n",
        "plt.show()"
      ]
    },
    {
      "cell_type": "code",
      "execution_count": null,
      "metadata": {
        "colab": {
          "base_uri": "https://localhost:8080/"
        },
        "id": "zwXv77Wv0v2T",
        "outputId": "e25d377e-9101-4c51-fc0a-b9a63b3fecad"
      },
      "outputs": [
        {
          "name": "stdout",
          "output_type": "stream",
          "text": [
            "Cредний процент ошибки на проверочной выборке: 4.46%\n"
          ]
        }
      ],
      "source": [
        "# Calculate the average error rate on the validation sample\n",
        "MEAN_ERROR = (mean_absolute_error(pred, y_train[1854:1954]) * 1000)/(cars['price']).mean() * 100\n",
        "\n",
        "print(f'Average error rate on the validation sample: {MEAN_ERROR:.2f}%')"
      ]
    }
  ],
  "metadata": {
    "accelerator": "GPU",
    "colab": {
      "gpuType": "T4",
      "provenance": []
    },
    "kernelspec": {
      "display_name": "Python 3",
      "name": "python3"
    },
    "language_info": {
      "name": "python"
    }
  },
  "nbformat": 4,
  "nbformat_minor": 0
}
